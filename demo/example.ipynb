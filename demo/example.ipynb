{
 "cells": [
  {
   "cell_type": "code",
   "execution_count": 1,
   "id": "51762f30-a659-41a4-a431-eeade0f1f13e",
   "metadata": {},
   "outputs": [],
   "source": [
    "import sys\n",
    "sys.path.append(\"C:\\\\Users\\Aditi\\Documents\\Python_Projects\\\\\")\n",
    "\n",
    "from Sudoku_Solver.sudoku_maker import puzzle_maker\n",
    "from Sudoku_Solver.sudoku_solver import annealer\n",
    "import matplotlib.pyplot as plt"
   ]
  },
  {
   "cell_type": "markdown",
   "id": "7fcfe778-e289-4222-895f-9cf8db311f7e",
   "metadata": {
    "tags": []
   },
   "source": [
    "## Documentation"
   ]
  },
  {
   "cell_type": "code",
   "execution_count": 2,
   "id": "07060edd-3542-412a-936e-08fc55c2f739",
   "metadata": {},
   "outputs": [
    {
     "data": {
      "text/plain": [
       "\u001b[1;31mSignature:\u001b[0m \u001b[0mpuzzle_maker\u001b[0m\u001b[1;33m.\u001b[0m\u001b[0mmakeSudoku\u001b[0m\u001b[1;33m(\u001b[0m\u001b[0mn\u001b[0m\u001b[1;33m,\u001b[0m \u001b[0mverbose\u001b[0m\u001b[1;33m=\u001b[0m\u001b[1;32mFalse\u001b[0m\u001b[1;33m)\u001b[0m\u001b[1;33m\u001b[0m\u001b[1;33m\u001b[0m\u001b[0m\n",
       "\u001b[1;31mDocstring:\u001b[0m\n",
       "Make sudoku of dimension n^2\n",
       "Input:\n",
       " n       : Dimension\n",
       " verbose : (Optional) Boolean, prints sudoku. Default value is False.\n",
       "\n",
       "Output:\n",
       " sudoku  : n^2 x n^2 grid of values \n",
       " \n",
       "\u001b[1;31mFile:\u001b[0m      c:\\users\\aditi\\documents\\python_projects\\sudoku_solver\\sudoku_maker\\puzzle_maker.py\n",
       "\u001b[1;31mType:\u001b[0m      function\n"
      ]
     },
     "metadata": {},
     "output_type": "display_data"
    }
   ],
   "source": [
    "puzzle_maker.makeSudoku?"
   ]
  },
  {
   "cell_type": "code",
   "execution_count": 3,
   "id": "4f36c842-6e55-4c4d-b45e-f2db6dd56dd9",
   "metadata": {},
   "outputs": [
    {
     "data": {
      "text/plain": [
       "\u001b[1;31mSignature:\u001b[0m \u001b[0mpuzzle_maker\u001b[0m\u001b[1;33m.\u001b[0m\u001b[0mmakePuzzle\u001b[0m\u001b[1;33m(\u001b[0m\u001b[0mgrid\u001b[0m\u001b[1;33m,\u001b[0m \u001b[0mn\u001b[0m\u001b[1;33m,\u001b[0m \u001b[0mverbose\u001b[0m\u001b[1;33m=\u001b[0m\u001b[1;32mFalse\u001b[0m\u001b[1;33m)\u001b[0m\u001b[1;33m\u001b[0m\u001b[1;33m\u001b[0m\u001b[0m\n",
       "\u001b[1;31mDocstring:\u001b[0m\n",
       "Randomly remove elements from a grid to make a sudoku puzzle\n",
       "\n",
       "Input:\n",
       " grid    : A grid (NxN dimension) of values\n",
       " n       : Number of elements to remove.\n",
       "           This determines the difficulty of the puzzle.\n",
       " verbose : (Optional) Boolean that determines whether to print results.\n",
       "           Default values is False.\n",
       "\n",
       "Output:\n",
       " puzzle  : a sudoke puzzle with zeros indicating the empty cells\n",
       "\u001b[1;31mFile:\u001b[0m      c:\\users\\aditi\\documents\\python_projects\\sudoku_solver\\sudoku_maker\\puzzle_maker.py\n",
       "\u001b[1;31mType:\u001b[0m      function\n"
      ]
     },
     "metadata": {},
     "output_type": "display_data"
    }
   ],
   "source": [
    "puzzle_maker.makePuzzle?"
   ]
  },
  {
   "cell_type": "code",
   "execution_count": 4,
   "id": "35b2d070-97cc-462e-8d52-bff31a2ad282",
   "metadata": {},
   "outputs": [
    {
     "data": {
      "text/plain": [
       "\u001b[1;31mSignature:\u001b[0m\n",
       "\u001b[0mannealer\u001b[0m\u001b[1;33m.\u001b[0m\u001b[0msolveSudokubyBlocks\u001b[0m\u001b[1;33m(\u001b[0m\u001b[1;33m\n",
       "\u001b[0m    \u001b[0mpuzzle_input\u001b[0m\u001b[1;33m,\u001b[0m\u001b[1;33m\n",
       "\u001b[0m    \u001b[0mmaxIterations\u001b[0m\u001b[1;33m=\u001b[0m\u001b[1;36m5000000\u001b[0m\u001b[1;33m,\u001b[0m\u001b[1;33m\n",
       "\u001b[0m    \u001b[0mT\u001b[0m\u001b[1;33m=\u001b[0m\u001b[1;36m0.5\u001b[0m\u001b[1;33m,\u001b[0m\u001b[1;33m\n",
       "\u001b[0m    \u001b[0mcoolingRate\u001b[0m\u001b[1;33m=\u001b[0m\u001b[1;36m0.99999\u001b[0m\u001b[1;33m,\u001b[0m\u001b[1;33m\n",
       "\u001b[0m    \u001b[0mverbose\u001b[0m\u001b[1;33m=\u001b[0m\u001b[1;32mFalse\u001b[0m\u001b[1;33m,\u001b[0m\u001b[1;33m\n",
       "\u001b[0m\u001b[1;33m)\u001b[0m\u001b[1;33m\u001b[0m\u001b[1;33m\u001b[0m\u001b[0m\n",
       "\u001b[1;31mDocstring:\u001b[0m\n",
       "Solves sudoku using simulated annealing. Ref(https://en.wikipedia.org/wiki/Simulated_annealing)\n",
       "Method:\n",
       " - It uniquely fills every nxn block in an n^2xn^2 puzzle randomly.\n",
       " - It counts the number of unique elements in every row and column, assigning a score of -1 to each unique element.\n",
       " - It picks a random nxn square in the puzzle and swaps two entries in it to calculate a \"neighboring state\".\n",
       " - Calculates the score for the neighbor state and accepts/rejects with a certain probability that the new state has a lower score.\n",
       " - Cools the temperature by some cooling rate (T= 0.99999T)\n",
       " - Repeat from step 2 till minimum score is reached.\n",
       " \n",
       " The idea is that over time, as the temperature cools, it becomes less likely to accept a worse state of the puzzle so that given enough iterations, the annealer will solve the puzzle. Sometimes the annealr can get stuck. In this case, a reheating condition is included, so that the temperature is increased and it will accept a less likely state and travel a different random path to get to the solution.\n",
       " \n",
       " Input:\n",
       "  puzzle_input    : The puzzle to solve as n^2 x n^2 list with zeros marking the empty cells\n",
       "  maxIterations   : (Optional) The number fo iterations to try before giving up (int)\n",
       "  T               : (Optional) The temperature (double)\n",
       "  coolingRate     : (Optional) The rate at which to reduce the temperature. The temperature is reduced geometrically. (double)\n",
       "  verbose         : (Optional) Whether to print info (Boolean)\n",
       " \n",
       " Output:\n",
       "  Returns solved puzzle\n",
       "\u001b[1;31mFile:\u001b[0m      c:\\users\\aditi\\documents\\python_projects\\sudoku_solver\\sudoku_solver\\annealer.py\n",
       "\u001b[1;31mType:\u001b[0m      function\n"
      ]
     },
     "metadata": {},
     "output_type": "display_data"
    }
   ],
   "source": [
    "annealer.solveSudokubyBlocks?"
   ]
  },
  {
   "cell_type": "markdown",
   "id": "0e1f8b7a-9c3c-4307-8603-106ef23eeb6a",
   "metadata": {
    "tags": []
   },
   "source": [
    "## Example 4x4"
   ]
  },
  {
   "cell_type": "code",
   "execution_count": 5,
   "id": "e12c4bc1-6c3a-4d2a-bb2f-6f4513acc830",
   "metadata": {},
   "outputs": [
    {
     "name": "stdout",
     "output_type": "stream",
     "text": [
      "The grid:\n",
      "----------------------------\n",
      "||  1  |  3  ||  4  |  2  ||\n",
      "||  4  |  2  ||  1  |  3  ||\n",
      "----------------------------\n",
      "||  2  |  1  ||  3  |  4  ||\n",
      "||  3  |  4  ||  2  |  1  ||\n",
      "----------------------------\n",
      "\n",
      " The puzzle:\n",
      "----------------------------\n",
      "||  0  |  0  ||  0  |  2  ||\n",
      "||  4  |  2  ||  0  |  0  ||\n",
      "----------------------------\n",
      "||  0  |  1  ||  3  |  0  ||\n",
      "||  3  |  0  ||  0  |  1  ||\n",
      "----------------------------\n"
     ]
    }
   ],
   "source": [
    "# Let's make a 4x4 sudoku. Remember, the sudoku here need not have a unique solution.\n",
    "\n",
    "print(\"The grid:\")\n",
    "grid=puzzle_maker.makeSudoku(2,verbose=True)\n",
    "\n",
    "print(\"\\n The puzzle:\")\n",
    "puzzle = puzzle_maker.makePuzzle(grid,9,verbose=True)\n"
   ]
  },
  {
   "cell_type": "code",
   "execution_count": 6,
   "id": "a41fa352-45ce-4fe5-9479-cd5384554cbc",
   "metadata": {},
   "outputs": [
    {
     "name": "stdout",
     "output_type": "stream",
     "text": [
      "The Solution:\n",
      "----------------------------\n",
      "||  1  |  3  ||  4  |  2  ||\n",
      "||  4  |  2  ||  1  |  3  ||\n",
      "----------------------------\n",
      "||  2  |  1  ||  3  |  4  ||\n",
      "||  3  |  4  ||  2  |  1  ||\n",
      "----------------------------\n"
     ]
    }
   ],
   "source": [
    "# Let's solve the above puzzle using the annealer\n",
    "\n",
    "print(\"The Solution:\")\n",
    "solution = annealer.solveSudokubyBlocks(puzzle)\n",
    "if(puzzle_maker.checkValidSudoku(solution)):\n",
    "    puzzle_maker.Print(solution)\n",
    "else:\n",
    "    print(\"Did not solve. This is a random solver, so expect a different outcome every time. Try again!\")"
   ]
  },
  {
   "cell_type": "markdown",
   "id": "3e2d78b5-ed7e-49db-8faa-072e9c39da3b",
   "metadata": {
    "tags": []
   },
   "source": [
    "## Example 9x9"
   ]
  },
  {
   "cell_type": "code",
   "execution_count": 7,
   "id": "abec81dc-42e0-41fe-84b3-a20dabe29e06",
   "metadata": {},
   "outputs": [
    {
     "name": "stdout",
     "output_type": "stream",
     "text": [
      "The grid:\n",
      "-----------------------------------------------------------\n",
      "||  1  |  7  |  2  ||  9  |  6  |  4  ||  8  |  3  |  5  ||\n",
      "||  9  |  6  |  4  ||  8  |  3  |  5  ||  1  |  7  |  2  ||\n",
      "||  8  |  3  |  5  ||  1  |  7  |  2  ||  9  |  6  |  4  ||\n",
      "-----------------------------------------------------------\n",
      "||  5  |  1  |  7  ||  2  |  9  |  6  ||  4  |  8  |  3  ||\n",
      "||  2  |  9  |  6  ||  4  |  8  |  3  ||  5  |  1  |  7  ||\n",
      "||  4  |  8  |  3  ||  5  |  1  |  7  ||  2  |  9  |  6  ||\n",
      "-----------------------------------------------------------\n",
      "||  7  |  2  |  9  ||  6  |  4  |  8  ||  3  |  5  |  1  ||\n",
      "||  6  |  4  |  8  ||  3  |  5  |  1  ||  7  |  2  |  9  ||\n",
      "||  3  |  5  |  1  ||  7  |  2  |  9  ||  6  |  4  |  8  ||\n",
      "-----------------------------------------------------------\n",
      "\n",
      " The puzzle:\n",
      "-----------------------------------------------------------\n",
      "||  1  |  7  |  0  ||  0  |  6  |  0  ||  0  |  0  |  0  ||\n",
      "||  9  |  6  |  0  ||  0  |  0  |  0  ||  0  |  0  |  2  ||\n",
      "||  8  |  3  |  0  ||  1  |  0  |  2  ||  0  |  0  |  0  ||\n",
      "-----------------------------------------------------------\n",
      "||  5  |  0  |  7  ||  0  |  9  |  6  ||  4  |  0  |  0  ||\n",
      "||  2  |  0  |  0  ||  0  |  8  |  0  ||  0  |  1  |  7  ||\n",
      "||  4  |  0  |  3  ||  0  |  1  |  7  ||  0  |  9  |  0  ||\n",
      "-----------------------------------------------------------\n",
      "||  7  |  0  |  9  ||  6  |  0  |  0  ||  0  |  0  |  0  ||\n",
      "||  0  |  0  |  8  ||  0  |  0  |  0  ||  7  |  2  |  9  ||\n",
      "||  3  |  5  |  0  ||  0  |  2  |  0  ||  0  |  4  |  8  ||\n",
      "-----------------------------------------------------------\n"
     ]
    }
   ],
   "source": [
    "# Let's make a 9x9 sudoku. Remember, the sudoku here need not have a unique solution.\n",
    "\n",
    "print(\"The grid:\")\n",
    "grid=puzzle_maker.makeSudoku(3,verbose=True)\n",
    "\n",
    "print(\"\\n The puzzle:\")\n",
    "puzzle = puzzle_maker.makePuzzle(grid,45,verbose=True)\n"
   ]
  },
  {
   "cell_type": "code",
   "execution_count": 8,
   "id": "2d79561d-f90a-4855-a9a3-5785bcca20db",
   "metadata": {},
   "outputs": [
    {
     "name": "stdout",
     "output_type": "stream",
     "text": [
      "The Solution:\n",
      "-----------------------------------------------------------\n",
      "||  1  |  7  |  2  ||  9  |  6  |  4  ||  8  |  3  |  5  ||\n",
      "||  9  |  6  |  4  ||  8  |  3  |  5  ||  1  |  7  |  2  ||\n",
      "||  8  |  3  |  5  ||  1  |  7  |  2  ||  9  |  6  |  4  ||\n",
      "-----------------------------------------------------------\n",
      "||  5  |  1  |  7  ||  2  |  9  |  6  ||  4  |  8  |  3  ||\n",
      "||  2  |  9  |  6  ||  4  |  8  |  3  ||  5  |  1  |  7  ||\n",
      "||  4  |  8  |  3  ||  5  |  1  |  7  ||  2  |  9  |  6  ||\n",
      "-----------------------------------------------------------\n",
      "||  7  |  2  |  9  ||  6  |  4  |  8  ||  3  |  5  |  1  ||\n",
      "||  6  |  4  |  8  ||  3  |  5  |  1  ||  7  |  2  |  9  ||\n",
      "||  3  |  5  |  1  ||  7  |  2  |  9  ||  6  |  4  |  8  ||\n",
      "-----------------------------------------------------------\n"
     ]
    }
   ],
   "source": [
    "# Let's solve the above puzzle using the annealer\n",
    "\n",
    "print(\"The Solution:\")\n",
    "solution = annealer.solveSudokubyBlocks(puzzle)\n",
    "if(puzzle_maker.checkValidSudoku(solution)):\n",
    "    puzzle_maker.Print(solution)\n",
    "else:\n",
    "    print(\"Did not solve. This is a random solver, so expect a different outcome every time. Try again!\")"
   ]
  },
  {
   "cell_type": "markdown",
   "id": "7233603b-c270-4f61-bf9b-66a71971e566",
   "metadata": {
    "tags": []
   },
   "source": [
    "## Example 16x16"
   ]
  },
  {
   "cell_type": "code",
   "execution_count": 9,
   "id": "61e99cd0-053b-4e2f-af32-154b10bd73e5",
   "metadata": {},
   "outputs": [
    {
     "name": "stdout",
     "output_type": "stream",
     "text": [
      "The grid:\n",
      "------------------------------------------------------------------------------------------------------\n",
      "|| 12  |  5  |  16 |  2  ||  9  |  15 |  13 |  1  ||  8  |  7  |  4  |  14 || 11  |  3  |  10 |  6  ||\n",
      "||  9  |  15 |  13 |  1  ||  8  |  7  |  4  |  14 || 11  |  3  |  10 |  6  || 12  |  5  |  16 |  2  ||\n",
      "||  8  |  7  |  4  |  14 || 11  |  3  |  10 |  6  || 12  |  5  |  16 |  2  ||  9  |  15 |  13 |  1  ||\n",
      "|| 11  |  3  |  10 |  6  || 12  |  5  |  16 |  2  ||  9  |  15 |  13 |  1  ||  8  |  7  |  4  |  14 ||\n",
      "------------------------------------------------------------------------------------------------------\n",
      "|| 10  |  6  |  12 |  5  || 16  |  2  |  9  |  15 || 13  |  1  |  8  |  7  ||  4  |  14 |  11 |  3  ||\n",
      "|| 16  |  2  |  9  |  15 || 13  |  1  |  8  |  7  ||  4  |  14 |  11 |  3  || 10  |  6  |  12 |  5  ||\n",
      "|| 13  |  1  |  8  |  7  ||  4  |  14 |  11 |  3  || 10  |  6  |  12 |  5  || 16  |  2  |  9  |  15 ||\n",
      "||  4  |  14 |  11 |  3  || 10  |  6  |  12 |  5  || 16  |  2  |  9  |  15 || 13  |  1  |  8  |  7  ||\n",
      "------------------------------------------------------------------------------------------------------\n",
      "||  6  |  12 |  5  |  16 ||  2  |  9  |  15 |  13 ||  1  |  8  |  7  |  4  || 14  |  11 |  3  |  10 ||\n",
      "||  2  |  9  |  15 |  13 ||  1  |  8  |  7  |  4  || 14  |  11 |  3  |  10 ||  6  |  12 |  5  |  16 ||\n",
      "||  1  |  8  |  7  |  4  || 14  |  11 |  3  |  10 ||  6  |  12 |  5  |  16 ||  2  |  9  |  15 |  13 ||\n",
      "|| 14  |  11 |  3  |  10 ||  6  |  12 |  5  |  16 ||  2  |  9  |  15 |  13 ||  1  |  8  |  7  |  4  ||\n",
      "------------------------------------------------------------------------------------------------------\n",
      "||  5  |  16 |  2  |  9  || 15  |  13 |  1  |  8  ||  7  |  4  |  14 |  11 ||  3  |  10 |  6  |  12 ||\n",
      "|| 15  |  13 |  1  |  8  ||  7  |  4  |  14 |  11 ||  3  |  10 |  6  |  12 ||  5  |  16 |  2  |  9  ||\n",
      "||  7  |  4  |  14 |  11 ||  3  |  10 |  6  |  12 ||  5  |  16 |  2  |  9  || 15  |  13 |  1  |  8  ||\n",
      "||  3  |  10 |  6  |  12 ||  5  |  16 |  2  |  9  || 15  |  13 |  1  |  8  ||  7  |  4  |  14 |  11 ||\n",
      "------------------------------------------------------------------------------------------------------\n",
      "\n",
      " The puzzle:\n",
      "------------------------------------------------------------------------------------------------------\n",
      "|| 12  |  5  |  0  |  0  ||  9  |  15 |  0  |  1  ||  0  |  0  |  0  |  14 ||  0  |  3  |  0  |  0  ||\n",
      "||  9  |  0  |  0  |  1  ||  8  |  0  |  0  |  0  || 11  |  0  |  10 |  6  ||  0  |  0  |  0  |  2  ||\n",
      "||  8  |  7  |  4  |  0  || 11  |  0  |  10 |  0  ||  0  |  0  |  16 |  0  ||  9  |  0  |  13 |  0  ||\n",
      "||  0  |  0  |  10 |  0  || 12  |  0  |  16 |  2  ||  9  |  0  |  0  |  0  ||  0  |  7  |  0  |  0  ||\n",
      "------------------------------------------------------------------------------------------------------\n",
      "|| 10  |  6  |  0  |  5  || 16  |  0  |  9  |  15 || 13  |  1  |  8  |  7  ||  4  |  14 |  0  |  0  ||\n",
      "||  0  |  0  |  0  |  15 || 13  |  1  |  0  |  7  ||  4  |  0  |  0  |  0  || 10  |  6  |  0  |  5  ||\n",
      "|| 13  |  1  |  0  |  7  ||  4  |  14 |  0  |  0  ||  0  |  0  |  0  |  5  ||  0  |  0  |  0  |  0  ||\n",
      "||  0  |  14 |  0  |  0  ||  0  |  6  |  12 |  0  ||  0  |  0  |  0  |  0  ||  0  |  1  |  8  |  0  ||\n",
      "------------------------------------------------------------------------------------------------------\n",
      "||  6  |  12 |  5  |  16 ||  2  |  0  |  15 |  0  ||  1  |  8  |  7  |  4  ||  0  |  11 |  3  |  10 ||\n",
      "||  2  |  9  |  15 |  13 ||  0  |  0  |  0  |  4  || 14  |  0  |  3  |  10 ||  0  |  0  |  5  |  16 ||\n",
      "||  0  |  0  |  7  |  0  ||  0  |  11 |  0  |  0  ||  0  |  12 |  5  |  16 ||  2  |  9  |  0  |  0  ||\n",
      "|| 14  |  0  |  0  |  0  ||  6  |  12 |  5  |  16 ||  2  |  9  |  0  |  13 ||  1  |  0  |  0  |  0  ||\n",
      "------------------------------------------------------------------------------------------------------\n",
      "||  5  |  16 |  2  |  9  || 15  |  13 |  1  |  8  ||  0  |  0  |  14 |  0  ||  3  |  0  |  6  |  0  ||\n",
      "||  0  |  0  |  1  |  0  ||  7  |  4  |  0  |  0  ||  0  |  0  |  0  |  12 ||  0  |  0  |  0  |  0  ||\n",
      "||  0  |  0  |  14 |  11 ||  0  |  10 |  0  |  0  ||  0  |  16 |  0  |  9  || 15  |  13 |  1  |  0  ||\n",
      "||  0  |  0  |  0  |  0  ||  5  |  16 |  0  |  9  ||  0  |  0  |  1  |  8  ||  0  |  4  |  14 |  0  ||\n",
      "------------------------------------------------------------------------------------------------------\n"
     ]
    }
   ],
   "source": [
    "# Let's make a 16x16 sudoku. Remember, the sudoku here need not have a unique solution.\n",
    "\n",
    "print(\"The grid:\")\n",
    "grid=puzzle_maker.makeSudoku(4,verbose=True)\n",
    "\n",
    "print(\"\\n The puzzle:\")\n",
    "puzzle = puzzle_maker.makePuzzle(grid,128,verbose=True)\n"
   ]
  },
  {
   "cell_type": "code",
   "execution_count": 10,
   "id": "bfc92fd0-883a-41d6-b70b-88056e55d458",
   "metadata": {},
   "outputs": [
    {
     "name": "stdout",
     "output_type": "stream",
     "text": [
      "The Solution:\n",
      "------------------------------------------------------------------------------------------------------\n",
      "|| 12  |  5  |  16 |  2  ||  9  |  15 |  13 |  1  ||  8  |  7  |  4  |  14 || 11  |  3  |  10 |  6  ||\n",
      "||  9  |  3  |  13 |  1  ||  8  |  7  |  4  |  14 || 11  |  15 |  10 |  6  || 16  |  5  |  12 |  2  ||\n",
      "||  8  |  7  |  4  |  14 || 11  |  3  |  10 |  6  || 12  |  5  |  16 |  2  ||  9  |  15 |  13 |  1  ||\n",
      "|| 11  |  15 |  10 |  6  || 12  |  5  |  16 |  2  ||  9  |  3  |  13 |  1  ||  8  |  7  |  4  |  14 ||\n",
      "------------------------------------------------------------------------------------------------------\n",
      "|| 10  |  6  |  12 |  5  || 16  |  2  |  9  |  15 || 13  |  1  |  8  |  7  ||  4  |  14 |  11 |  3  ||\n",
      "|| 16  |  2  |  11 |  15 || 13  |  1  |  8  |  7  ||  4  |  14 |  12 |  3  || 10  |  6  |  9  |  5  ||\n",
      "|| 13  |  1  |  8  |  7  ||  4  |  14 |  11 |  3  || 10  |  6  |  9  |  5  || 12  |  16 |  2  |  15 ||\n",
      "||  4  |  14 |  9  |  3  || 10  |  6  |  12 |  5  || 16  |  2  |  11 |  15 || 13  |  1  |  8  |  7  ||\n",
      "------------------------------------------------------------------------------------------------------\n",
      "||  6  |  12 |  5  |  16 ||  2  |  9  |  15 |  13 ||  1  |  8  |  7  |  4  || 14  |  11 |  3  |  10 ||\n",
      "||  2  |  9  |  15 |  13 ||  1  |  8  |  7  |  4  || 14  |  11 |  3  |  10 ||  6  |  12 |  5  |  16 ||\n",
      "||  1  |  8  |  7  |  4  || 14  |  11 |  3  |  10 ||  6  |  12 |  5  |  16 ||  2  |  9  |  15 |  13 ||\n",
      "|| 14  |  11 |  3  |  10 ||  6  |  12 |  5  |  16 ||  2  |  9  |  15 |  13 ||  1  |  8  |  7  |  4  ||\n",
      "------------------------------------------------------------------------------------------------------\n",
      "||  5  |  16 |  2  |  9  || 15  |  13 |  1  |  8  ||  7  |  4  |  14 |  11 ||  3  |  10 |  6  |  12 ||\n",
      "||  3  |  10 |  1  |  8  ||  7  |  4  |  14 |  11 || 15  |  13 |  6  |  12 ||  5  |  2  |  16 |  9  ||\n",
      "||  7  |  4  |  14 |  11 ||  3  |  10 |  6  |  12 ||  5  |  16 |  2  |  9  || 15  |  13 |  1  |  8  ||\n",
      "|| 15  |  13 |  6  |  12 ||  5  |  16 |  2  |  9  ||  3  |  10 |  1  |  8  ||  7  |  4  |  14 |  11 ||\n",
      "------------------------------------------------------------------------------------------------------\n"
     ]
    }
   ],
   "source": [
    "# Let's solve the above puzzle using the annealer\n",
    "\n",
    "print(\"The Solution:\")\n",
    "solution = annealer.solveSudokubyBlocks(puzzle)\n",
    "\n",
    "#If default temperature and cooling rate doesn't work, the below temperature and rate seemed to work. If not, play around with the function parameters.\n",
    "#solution = annealer.solveSudokubyBlocks(puzzle, T=10,coolingRate=0.9999)\n",
    "\n",
    "if(puzzle_maker.checkValidSudoku(solution)):\n",
    "    puzzle_maker.Print(solution)\n",
    "else:\n",
    "    print(\"Did not solve. This is a random solver, so expect a different outcome every time. Try again!\")"
   ]
  },
  {
   "cell_type": "code",
   "execution_count": null,
   "id": "9cbfc22a-e3bb-44a5-9ebb-55ae0f020ba7",
   "metadata": {},
   "outputs": [],
   "source": []
  }
 ],
 "metadata": {
  "kernelspec": {
   "display_name": "Python 3 (ipykernel)",
   "language": "python",
   "name": "python3"
  },
  "language_info": {
   "codemirror_mode": {
    "name": "ipython",
    "version": 3
   },
   "file_extension": ".py",
   "mimetype": "text/x-python",
   "name": "python",
   "nbconvert_exporter": "python",
   "pygments_lexer": "ipython3",
   "version": "3.11.0"
  }
 },
 "nbformat": 4,
 "nbformat_minor": 5
}
